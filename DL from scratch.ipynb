{
 "cells": [
  {
   "cell_type": "code",
   "execution_count": 9,
   "metadata": {},
   "outputs": [],
   "source": [
    "import numpy as np"
   ]
  },
  {
   "cell_type": "code",
   "execution_count": 10,
   "metadata": {},
   "outputs": [],
   "source": [
    "W1 = np.random.randn(2,4)\n",
    "b1 = np.random.randn(4)\n",
    "x = np.random.randn(10, 2)\n",
    "h = np.matmul(x, W1) + b1"
   ]
  },
  {
   "cell_type": "code",
   "execution_count": 11,
   "metadata": {},
   "outputs": [
    {
     "data": {
      "text/plain": [
       "array([[ 0.97850524, -0.04571622,  0.45827938, -1.55131476],\n",
       "       [ 0.8112674 ,  0.79128064, -1.60385526, -1.47902611]])"
      ]
     },
     "execution_count": 11,
     "metadata": {},
     "output_type": "execute_result"
    }
   ],
   "source": [
    "W1"
   ]
  },
  {
   "cell_type": "code",
   "execution_count": 12,
   "metadata": {},
   "outputs": [
    {
     "data": {
      "text/plain": [
       "array([ 0.981905  ,  1.04962333, -0.26822245, -1.5200055 ])"
      ]
     },
     "execution_count": 12,
     "metadata": {},
     "output_type": "execute_result"
    }
   ],
   "source": [
    "b1"
   ]
  },
  {
   "cell_type": "code",
   "execution_count": 13,
   "metadata": {},
   "outputs": [
    {
     "data": {
      "text/plain": [
       "array([[-1.53854443e+00,  8.20683073e-01],\n",
       "       [-1.49103269e+00,  2.87116527e-01],\n",
       "       [-8.25966733e-01,  1.40471296e+00],\n",
       "       [-3.81412132e-01,  1.17362177e-03],\n",
       "       [ 2.64054183e-01,  1.32314725e+00],\n",
       "       [ 8.41322542e-01,  2.80991749e-02],\n",
       "       [-1.26406141e+00, -1.00460061e+00],\n",
       "       [ 4.78258287e-01,  5.80857751e-01],\n",
       "       [ 1.59426756e+00,  4.08678782e-01],\n",
       "       [-5.34612361e-01, -1.28127315e+00]])"
      ]
     },
     "execution_count": 13,
     "metadata": {},
     "output_type": "execute_result"
    }
   ],
   "source": [
    "x"
   ]
  },
  {
   "cell_type": "code",
   "execution_count": 14,
   "metadata": {},
   "outputs": [
    {
     "data": {
      "text/plain": [
       "array([[ 0.14222463,  1.76935039, -2.2895625 , -0.34705052],\n",
       "       [-0.24415003,  1.34497746, -1.41202534,  0.36840268],\n",
       "       [ 1.31329005,  2.19890557, -2.89970224, -2.31627826],\n",
       "       [ 0.60964335,  1.06798871, -0.44489809, -0.93005105],\n",
       "       [ 2.31370963,  2.08453257, -2.26934855, -3.88660598],\n",
       "       [ 1.82793946,  1.03339557,  0.07227131, -2.86672099],\n",
       "       [-1.06998544,  0.31249043,  0.76371824,  1.92678213],\n",
       "       [ 1.9211142 ,  1.48738066, -0.9806583 , -3.12103842],\n",
       "       [ 2.87345193,  1.30011905, -0.19306412, -4.59766288],\n",
       "       [-0.58067114,  0.06021715,  1.54175242,  1.20438299]])"
      ]
     },
     "execution_count": 14,
     "metadata": {},
     "output_type": "execute_result"
    }
   ],
   "source": [
    "h"
   ]
  },
  {
   "cell_type": "code",
   "execution_count": null,
   "metadata": {},
   "outputs": [],
   "source": []
  }
 ],
 "metadata": {
  "kernelspec": {
   "display_name": "Python 3",
   "language": "python",
   "name": "python3"
  },
  "language_info": {
   "codemirror_mode": {
    "name": "ipython",
    "version": 3
   },
   "file_extension": ".py",
   "mimetype": "text/x-python",
   "name": "python",
   "nbconvert_exporter": "python",
   "pygments_lexer": "ipython3",
   "version": "3.6.10"
  }
 },
 "nbformat": 4,
 "nbformat_minor": 2
}
